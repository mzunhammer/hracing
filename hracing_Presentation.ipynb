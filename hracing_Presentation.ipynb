{
 "cells": [
  {
   "cell_type": "code",
   "execution_count": 1,
   "metadata": {
    "slideshow": {
     "slide_type": "skip"
    }
   },
   "outputs": [
    {
     "data": {
      "text/plain": [
       "{'height': 768,\n",
       " 'start_slideshow_at': 'selected',\n",
       " 'theme': 'simple',\n",
       " 'transition': 'none',\n",
       " 'width': 1024}"
      ]
     },
     "execution_count": 1,
     "metadata": {},
     "output_type": "execute_result"
    }
   ],
   "source": [
    "from traitlets.config.manager import BaseJSONConfigManager\n",
    "path = \"/Users/matthiaszunhammer/anaconda/etc/jupyter/nbconfig\"\n",
    "cm = BaseJSONConfigManager(config_dir=path)\n",
    "cm.update('livereveal', {\n",
    "              'theme': 'simple',\n",
    "              'transition': 'none',\n",
    "              'start_slideshow_at': 'selected',\n",
    "})\n",
    "\n",
    "cm.update('livereveal', {\n",
    "              'width': 1024,\n",
    "              'height': 768,\n",
    "})"
   ]
  },
  {
   "cell_type": "markdown",
   "metadata": {
    "collapsed": true,
    "slideshow": {
     "slide_type": "slide"
    }
   },
   "source": [
    "# Background\n",
    "<link rel=\"stylesheet\" href=\"reveal.js/css/theme/black.css\" id=\"theme\">\n",
    "After a sunday leisure trip to \"Rennbahn Düsseldorf\", I've got the idea that horseracing is an ideal training ground for practicing machine learning (ML) and Big Data handling as:\n",
    "* Interesting topic and good conversation starter (I'm not actually into betting, though)\n",
    "* Lots of cases for prediction available (200-800 races/day)\n",
    "* Lots of data available for each horse (jockey weight, horse age, past performance...)\n",
    "* \"Parimutuel betting\":, i.e. you compete against all other betters, rather than a bookie and his ML team (after paying a hefty house commission of approx. 15-20%)"
   ]
  },
  {
   "cell_type": "markdown",
   "metadata": {
    "collapsed": true,
    "slideshow": {
     "slide_type": "subslide"
    }
   },
   "source": [
    "# Aims\n",
    "* Improve python skills (I mainly work with MATLAB and R in neuroscience)\n",
    "* Get exposure to data-base systems like MongoDB and SQL (I mainly work with single-file-based data in neuroscience)\n",
    "* Aim added later: Work with git on team-level, together with my brother Florian (before: solo)\n",
    "* Ultimately: find out if it possible to \"beat the odds\" with machine learning (which I doubt)"
   ]
  },
  {
   "cell_type": "markdown",
   "metadata": {
    "slideshow": {
     "slide_type": "subslide"
    }
   },
   "source": [
    "# Roadmap\n",
    "1. Get data\n",
    "2. Clean data\n",
    "3. Modelling\n",
    "4. Test model\n",
    "5. Reflect on results"
   ]
  },
  {
   "cell_type": "markdown",
   "metadata": {
    "slideshow": {
     "slide_type": "slide"
    }
   },
   "source": [
    "# 1.1) Where to get data? – The problem\n",
    "\n",
    "Some sites offer data (e.g. [Betwise][1], [Betfair][2]).\n",
    "But:\n",
    "* A) They usually charge money (>100€ Betwise)\n",
    "* B) They usually offer a limited scope of variables (especially Betfair)\n",
    "* C) They usually offer data in a  format different than the race-sheets of upcoming races, making it difficult to implement a ML workflow\n",
    "[1]: https://www.betwise.co.uk/smartform\n",
    "\n",
    "[2]: https://www.betfair.com/de\n",
    "\n",
    "\n"
   ]
  },
  {
   "cell_type": "markdown",
   "metadata": {
    "slideshow": {
     "slide_type": "subslide"
    }
   },
   "source": [
    "# 1.1) Where to get data?  – The solution\n",
    "* Betting sites usually provide lots of data for upcomming and past races.\n",
    "* The [requests](http://docs.python-requests.org/en/master/) package for python offers a powerful tool to download webpages.\n",
    "* ... so I wrote a couple of functions to download and parse data from one of the big betting services. \n"
   ]
  },
  {
   "cell_type": "markdown",
   "metadata": {
    "slideshow": {
     "slide_type": "subslide"
    }
   },
   "source": [
    "# 1.1) Where to get data?  – The solution: scraping (cont.)\n",
    "In this process, called \"web-scraping\",  I learned:\n",
    "* using the requests package\n",
    "* how to use PHP-queries to accessed data\n",
    "* how to use http's GET and POST methods to login in automatically\n",
    "* some JSON (to post HTTP headers)\n",
    "* servers do not like receiving requests..."
   ]
  },
  {
   "cell_type": "markdown",
   "metadata": {
    "slideshow": {
     "slide_type": "subslide"
    }
   },
   "source": [
    "# 1.2.) How to get data?   – The solution: scraping (cont.)\n",
    "<link rel=\"stylesheet\" href=\"lib/css/zenburn.css\">\n",
    "The code can be found in the \"scrape\" module. \n",
    ">```py\n",
    "import hracing.scrape\n",
    "hracing.scrape.main()\n",
    "```\n",
    "\n",
    "Note: It will not work on your machine: I stored info on host and my login in a local .ini file for privacy issues."
   ]
  },
  {
   "cell_type": "code",
   "execution_count": null,
   "metadata": {
    "slideshow": {
     "slide_type": "-"
    }
   },
   "outputs": [],
   "source": [
    "import hracing.scrape\n",
    "hracing.scrape.main()"
   ]
  },
  {
   "cell_type": "markdown",
   "metadata": {
    "slideshow": {
     "slide_type": "slide"
    }
   },
   "source": [
    "# 1.2) Parse data — The problem\n",
    "A pretty simple problem:\n",
    "* Information is sitting in html-elements\n",
    "* Extract and store in some readily accessible format"
   ]
  },
  {
   "cell_type": "markdown",
   "metadata": {
    "slideshow": {
     "slide_type": "slide"
    }
   },
   "source": [
    "# 1.2) Parse data — The solution\n",
    "\n",
    "* At first, I extracted all data with regexp...\n",
    "* ... then I learned that what I'm trying is called parsing...\n",
    "* ... and what parsers  are good for.\n",
    "* BeautifulSoup makes this task easy."
   ]
  },
  {
   "cell_type": "markdown",
   "metadata": {
    "slideshow": {
     "slide_type": "slide"
    }
   },
   "source": [
    "# 1.3) Storing data — The problem\n",
    "* One race consists of the following info:\n",
    "    * Race-level info (e.g. race_ID, daytime, location...)\n",
    "    * Horse-level info (e.g. name, weight, sex, jockey...)\n",
    "    * Short-forms: A table describing the latest performance for each horse\n",
    "    * Long-forms: A table describing all-time performance for each horse\n",
    "    * A table describing the finish (sometimes for all horses, or only the first three,... etc. depending on track)\n",
    " >> Hierarchical data structure: Past performances nested in horses, horses and finishers nested in races."
   ]
  },
  {
   "cell_type": "markdown",
   "metadata": {
    "slideshow": {
     "slide_type": "slide"
    }
   },
   "source": [
    "# 1.3) Storing data — The solution, take 1\n",
    "* create a race class with variables stored as properties\n",
    "* save class instances in separate \"pickled\" files\n",
    "* give up...\n",
    "    \n",
    "++ Good to practice class syntax\n",
    "\n",
    "-- Inefficient data storage (lots of discspace, inaccessible, inflexible)"
   ]
  },
  {
   "cell_type": "markdown",
   "metadata": {
    "slideshow": {
     "slide_type": "slide"
    }
   },
   "source": [
    "# 1.3) Storing data — The solution, take 2\n",
    "* create SQL data-bank\n",
    "* save races in a relation with race_ID, horses in a relation horse_ID\n",
    "* give up...\n",
    "   \n",
    "++ Good to practice SQL syntax\n",
    "\n",
    "-- Not actually an efficient way to store data, as it cannot handle data hierarchy and is inflexible (esp. when new variables become available)"
   ]
  },
  {
   "cell_type": "markdown",
   "metadata": {
    "slideshow": {
     "slide_type": "slide"
    }
   },
   "source": [
    "# 1.3.) Storing data — The solution, take 3\n",
    "* parse data into hierarchical dict\n",
    "* create MongoDB data-bank and store dicts according to race ID\n",
    "* :)\n",
    "   \n",
    "++ Efficient storage, conserves natural data hierarchy, flexible if new variables become available\n",
    "\n",
    "-- Why did I not try this earlier"
   ]
  },
  {
   "cell_type": "markdown",
   "metadata": {
    "slideshow": {
     "slide_type": "slide"
    }
   },
   "source": [
    "# 1.3.) Storing data — The solution, take 3\n"
   ]
  },
  {
   "cell_type": "code",
   "execution_count": 142,
   "metadata": {
    "slideshow": {
     "slide_type": "-"
    }
   },
   "outputs": [
    {
     "data": {
      "text/html": [
       "<div>\n",
       "<table border=\"1\" class=\"dataframe\">\n",
       "  <thead>\n",
       "    <tr style=\"text-align: right;\">\n",
       "      <th></th>\n",
       "      <th>country</th>\n",
       "      <th>currency</th>\n",
       "      <th>distance</th>\n",
       "      <th>ground</th>\n",
       "      <th>n_starter</th>\n",
       "      <th>race_ID</th>\n",
       "      <th>race_date_time</th>\n",
       "      <th>race_name</th>\n",
       "      <th>race_number</th>\n",
       "      <th>stakes</th>\n",
       "      <th>...</th>\n",
       "      <th>nonrunner</th>\n",
       "      <th>odd</th>\n",
       "      <th>owner</th>\n",
       "      <th>sex</th>\n",
       "      <th>short_forms</th>\n",
       "      <th>starter_no1</th>\n",
       "      <th>starter_no2</th>\n",
       "      <th>trainer</th>\n",
       "      <th>weight</th>\n",
       "      <th>place</th>\n",
       "    </tr>\n",
       "  </thead>\n",
       "  <tbody>\n",
       "    <tr>\n",
       "      <th>0</th>\n",
       "      <td>FRA</td>\n",
       "      <td>EUR</td>\n",
       "      <td>3600.0</td>\n",
       "      <td></td>\n",
       "      <td>6</td>\n",
       "      <td>1278271</td>\n",
       "      <td>2017-09-14 12:05:00</td>\n",
       "      <td>Auteuil</td>\n",
       "      <td>1</td>\n",
       "      <td>53.0</td>\n",
       "      <td>...</td>\n",
       "      <td>False</td>\n",
       "      <td>28.0</td>\n",
       "      <td>A.Bocquet\\n\\t\\t\\t\\t</td>\n",
       "      <td>Wallach</td>\n",
       "      <td>{'past_racedates': [2017-09-01 00:00:00, 2017-...</td>\n",
       "      <td>1</td>\n",
       "      <td></td>\n",
       "      <td>Serge Foucher</td>\n",
       "      <td>69.0</td>\n",
       "      <td>1.0</td>\n",
       "    </tr>\n",
       "    <tr>\n",
       "      <th>1</th>\n",
       "      <td>FRA</td>\n",
       "      <td>EUR</td>\n",
       "      <td>3600.0</td>\n",
       "      <td></td>\n",
       "      <td>6</td>\n",
       "      <td>1278271</td>\n",
       "      <td>2017-09-14 12:05:00</td>\n",
       "      <td>Auteuil</td>\n",
       "      <td>1</td>\n",
       "      <td>53.0</td>\n",
       "      <td>...</td>\n",
       "      <td>False</td>\n",
       "      <td>3.5</td>\n",
       "      <td>Ra.Green\\n\\t\\t\\t\\t</td>\n",
       "      <td>Wallach</td>\n",
       "      <td>{'past_racedates': [2017-08-25 00:00:00, 2017-...</td>\n",
       "      <td>2</td>\n",
       "      <td></td>\n",
       "      <td>Guillaume Macaire</td>\n",
       "      <td>69.0</td>\n",
       "      <td>NaN</td>\n",
       "    </tr>\n",
       "    <tr>\n",
       "      <th>2</th>\n",
       "      <td>FRA</td>\n",
       "      <td>EUR</td>\n",
       "      <td>3600.0</td>\n",
       "      <td></td>\n",
       "      <td>6</td>\n",
       "      <td>1278271</td>\n",
       "      <td>2017-09-14 12:05:00</td>\n",
       "      <td>Auteuil</td>\n",
       "      <td>1</td>\n",
       "      <td>53.0</td>\n",
       "      <td>...</td>\n",
       "      <td>False</td>\n",
       "      <td>4.3</td>\n",
       "      <td>Jdg Bloodstock Services\\n\\t\\t\\t\\t</td>\n",
       "      <td>Wallach</td>\n",
       "      <td>{'past_racedates': [2017-08-20 00:00:00, 2017-...</td>\n",
       "      <td>3</td>\n",
       "      <td></td>\n",
       "      <td>Arnaud Chaille-Chaille</td>\n",
       "      <td>69.0</td>\n",
       "      <td>NaN</td>\n",
       "    </tr>\n",
       "    <tr>\n",
       "      <th>3</th>\n",
       "      <td>FRA</td>\n",
       "      <td>EUR</td>\n",
       "      <td>3600.0</td>\n",
       "      <td></td>\n",
       "      <td>6</td>\n",
       "      <td>1278271</td>\n",
       "      <td>2017-09-14 12:05:00</td>\n",
       "      <td>Auteuil</td>\n",
       "      <td>1</td>\n",
       "      <td>53.0</td>\n",
       "      <td>...</td>\n",
       "      <td>False</td>\n",
       "      <td>13.0</td>\n",
       "      <td>Mme I.Pacault\\n\\t\\t\\t\\t</td>\n",
       "      <td>Stute</td>\n",
       "      <td>{'past_racedates': [2017-04-04 00:00:00, 2017-...</td>\n",
       "      <td>4</td>\n",
       "      <td></td>\n",
       "      <td>Isabelle Pacault</td>\n",
       "      <td>68.0</td>\n",
       "      <td>3.0</td>\n",
       "    </tr>\n",
       "    <tr>\n",
       "      <th>4</th>\n",
       "      <td>FRA</td>\n",
       "      <td>EUR</td>\n",
       "      <td>3600.0</td>\n",
       "      <td></td>\n",
       "      <td>6</td>\n",
       "      <td>1278271</td>\n",
       "      <td>2017-09-14 12:05:00</td>\n",
       "      <td>Auteuil</td>\n",
       "      <td>1</td>\n",
       "      <td>53.0</td>\n",
       "      <td>...</td>\n",
       "      <td>False</td>\n",
       "      <td>1.9</td>\n",
       "      <td>Mme P.Papot\\n\\t\\t\\t\\t</td>\n",
       "      <td>Wallach</td>\n",
       "      <td>{'past_racedates': [2017-09-01 00:00:00, 2016-...</td>\n",
       "      <td>5</td>\n",
       "      <td></td>\n",
       "      <td>Guillaume Macaire</td>\n",
       "      <td>67.0</td>\n",
       "      <td>2.0</td>\n",
       "    </tr>\n",
       "    <tr>\n",
       "      <th>5</th>\n",
       "      <td>FRA</td>\n",
       "      <td>EUR</td>\n",
       "      <td>3600.0</td>\n",
       "      <td></td>\n",
       "      <td>6</td>\n",
       "      <td>1278271</td>\n",
       "      <td>2017-09-14 12:05:00</td>\n",
       "      <td>Auteuil</td>\n",
       "      <td>1</td>\n",
       "      <td>53.0</td>\n",
       "      <td>...</td>\n",
       "      <td>False</td>\n",
       "      <td>22.0</td>\n",
       "      <td>J.Seror\\n\\t\\t\\t\\t</td>\n",
       "      <td>Wallach</td>\n",
       "      <td>{'past_racedates': [2017-08-24 00:00:00, 2017-...</td>\n",
       "      <td>6</td>\n",
       "      <td></td>\n",
       "      <td>Mickael Seror</td>\n",
       "      <td>67.0</td>\n",
       "      <td>NaN</td>\n",
       "    </tr>\n",
       "  </tbody>\n",
       "</table>\n",
       "<p>6 rows × 29 columns</p>\n",
       "</div>"
      ],
      "text/plain": [
       "  country currency  distance ground  n_starter  race_ID      race_date_time  \\\n",
       "0     FRA      EUR    3600.0                 6  1278271 2017-09-14 12:05:00   \n",
       "1     FRA      EUR    3600.0                 6  1278271 2017-09-14 12:05:00   \n",
       "2     FRA      EUR    3600.0                 6  1278271 2017-09-14 12:05:00   \n",
       "3     FRA      EUR    3600.0                 6  1278271 2017-09-14 12:05:00   \n",
       "4     FRA      EUR    3600.0                 6  1278271 2017-09-14 12:05:00   \n",
       "5     FRA      EUR    3600.0                 6  1278271 2017-09-14 12:05:00   \n",
       "\n",
       "  race_name  race_number  stakes  ...  nonrunner   odd  \\\n",
       "0   Auteuil            1    53.0  ...      False  28.0   \n",
       "1   Auteuil            1    53.0  ...      False   3.5   \n",
       "2   Auteuil            1    53.0  ...      False   4.3   \n",
       "3   Auteuil            1    53.0  ...      False  13.0   \n",
       "4   Auteuil            1    53.0  ...      False   1.9   \n",
       "5   Auteuil            1    53.0  ...      False  22.0   \n",
       "\n",
       "                                owner      sex  \\\n",
       "0                 A.Bocquet\\n\\t\\t\\t\\t  Wallach   \n",
       "1                  Ra.Green\\n\\t\\t\\t\\t  Wallach   \n",
       "2   Jdg Bloodstock Services\\n\\t\\t\\t\\t  Wallach   \n",
       "3             Mme I.Pacault\\n\\t\\t\\t\\t    Stute   \n",
       "4               Mme P.Papot\\n\\t\\t\\t\\t  Wallach   \n",
       "5                   J.Seror\\n\\t\\t\\t\\t  Wallach   \n",
       "\n",
       "                                         short_forms starter_no1 starter_no2  \\\n",
       "0  {'past_racedates': [2017-09-01 00:00:00, 2017-...           1               \n",
       "1  {'past_racedates': [2017-08-25 00:00:00, 2017-...           2               \n",
       "2  {'past_racedates': [2017-08-20 00:00:00, 2017-...           3               \n",
       "3  {'past_racedates': [2017-04-04 00:00:00, 2017-...           4               \n",
       "4  {'past_racedates': [2017-09-01 00:00:00, 2016-...           5               \n",
       "5  {'past_racedates': [2017-08-24 00:00:00, 2017-...           6               \n",
       "\n",
       "                  trainer weight place  \n",
       "0           Serge Foucher   69.0   1.0  \n",
       "1       Guillaume Macaire   69.0   NaN  \n",
       "2  Arnaud Chaille-Chaille   69.0   NaN  \n",
       "3        Isabelle Pacault   68.0   3.0  \n",
       "4       Guillaume Macaire   67.0   2.0  \n",
       "5           Mickael Seror   67.0   NaN  \n",
       "\n",
       "[6 rows x 29 columns]"
      ]
     },
     "execution_count": 142,
     "metadata": {},
     "output_type": "execute_result"
    }
   ],
   "source": [
    "import pandas as pd\n",
    "import pymongo\n",
    "from hracing import db\n",
    "client = pymongo.MongoClient()\n",
    "db = client.races\n",
    "\n",
    "a=db.races.find_one()\n",
    "\n",
    "def race_to_df(race_dict):\n",
    "    '''Function that generating a pandas df from a db race entry.\n",
    "    Df will contain one line per runner with race-level and finish info'''\n",
    "    # Generate tables with race-level, horse-level, and finsh info \n",
    "    race_level_keys=race_dict.keys()-['_id','horses','finish']\n",
    "    race_generals = { k: race_dict[k] for k in race_level_keys }\n",
    "    df_race_level=pd.DataFrame(race_generals,index=[race_generals['race_ID']])\n",
    "    df_horse_level=pd.DataFrame(race_dict['horses'])\n",
    "    df_finish=pd.DataFrame(race_dict['finish'])\n",
    "    # Cross join race*horse (for some stupid reason not yet included in pandas so extra temp_keys cludge is needed)\n",
    "    df_race_level['temp_key']=1\n",
    "    df_horse_level['temp_key']=1\n",
    "    df_race_n_horse=pd.merge(df_race_level,df_horse_level,on='temp_key')\n",
    "    # Left join on starter_no1 to add info on winners\n",
    "    df=pd.merge(df_race_n_horse,pd_finish[['starter_no1','place']], on='starter_no1',how='left')\n",
    "    return df\n",
    "\n",
    "race_to_df(a)"
   ]
  },
  {
   "cell_type": "code",
   "execution_count": 80,
   "metadata": {},
   "outputs": [
    {
     "name": "stdout",
     "output_type": "stream",
     "text": [
      "[1, 2, 3, 4]\n"
     ]
    }
   ],
   "source": [
    "print([1,2]+([3,4]))"
   ]
  },
  {
   "cell_type": "markdown",
   "metadata": {
    "slideshow": {
     "slide_type": "slide"
    }
   },
   "source": [
    "# 3.) Machine learning"
   ]
  },
  {
   "cell_type": "markdown",
   "metadata": {
    "slideshow": {
     "slide_type": "slide"
    }
   },
   "source": [
    "# 4.) Bet?"
   ]
  }
 ],
 "metadata": {
  "anaconda-cloud": {},
  "celltoolbar": "Slideshow",
  "kernelspec": {
   "display_name": "Python [default]",
   "language": "python",
   "name": "python3"
  },
  "language_info": {
   "codemirror_mode": {
    "name": "ipython",
    "version": 3
   },
   "file_extension": ".py",
   "mimetype": "text/x-python",
   "name": "python",
   "nbconvert_exporter": "python",
   "pygments_lexer": "ipython3",
   "version": "3.5.2"
  }
 },
 "nbformat": 4,
 "nbformat_minor": 1
}
