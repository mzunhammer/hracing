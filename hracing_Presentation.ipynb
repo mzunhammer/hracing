{
 "cells": [
  {
   "cell_type": "code",
   "execution_count": 20,
   "metadata": {
    "collapsed": false,
    "slideshow": {
     "slide_type": "skip"
    }
   },
   "outputs": [
    {
     "data": {
      "text/plain": [
       "{'height': 768,\n",
       " 'start_slideshow_at': 'selected',\n",
       " 'theme': 'simple',\n",
       " 'transition': 'none',\n",
       " 'width': 1024}"
      ]
     },
     "execution_count": 20,
     "metadata": {},
     "output_type": "execute_result"
    }
   ],
   "source": [
    "from traitlets.config.manager import BaseJSONConfigManager\n",
    "path = \"/Users/matthiaszunhammer/anaconda/etc/jupyter/nbconfig\"\n",
    "cm = BaseJSONConfigManager(config_dir=path)\n",
    "cm.update('livereveal', {\n",
    "              'theme': 'simple',\n",
    "              'transition': 'none',\n",
    "              'start_slideshow_at': 'selected',\n",
    "})\n",
    "\n",
    "cm.update('livereveal', {\n",
    "              'width': 1024,\n",
    "              'height': 768,\n",
    "})"
   ]
  },
  {
   "cell_type": "markdown",
   "metadata": {
    "collapsed": true,
    "slideshow": {
     "slide_type": "slide"
    }
   },
   "source": [
    "# Background\n",
    "<link rel=\"stylesheet\" href=\"reveal.js/css/theme/black.css\" id=\"theme\">\n",
    "After a sunday leisure trip to \"Rennbahn Düsseldorf\", I've got the idea that horseracing is an ideal training ground for practicing machine learning (ML) and Big Data handling as:\n",
    "* Interesting topic and good conversation starter (I'm not actually into betting, though)\n",
    "* Lots of cases for prediction available (200-800 races/day)\n",
    "* Lots of data available for each horse (jockey weight, horse age, past performance...)\n",
    "* \"Parimutuel betting\":, i.e. you compete against all other betters, rather than a bookie and his ML team (after paying a hefty house commission of approx. 15-20%)"
   ]
  },
  {
   "cell_type": "markdown",
   "metadata": {
    "collapsed": true,
    "slideshow": {
     "slide_type": "subslide"
    }
   },
   "source": [
    "# Aims\n",
    "* Improve python skills (I mainly work with MATLAB and R in neuroscience)\n",
    "* Get exposure to data-base systems like MongoDB and SQL (I mainly work with single-file-based data in neuroscience)\n",
    "* Ultimately: find out if it possible to \"beat the odds\" with machine learning (which I doubt)"
   ]
  },
  {
   "cell_type": "markdown",
   "metadata": {
    "slideshow": {
     "slide_type": "subslide"
    }
   },
   "source": [
    "# Roadmap\n",
    "1. Get data\n",
    "2. Clean data\n",
    "3. Tran model\n",
    "4. Test model\n",
    "5. Reflect on results"
   ]
  },
  {
   "cell_type": "markdown",
   "metadata": {
    "collapsed": false,
    "slideshow": {
     "slide_type": "slide"
    }
   },
   "source": [
    "# 1.) Where to get data? – The problem\n",
    "\n",
    "Some sites offer data (e.g. [Betwise][1], [Betfair][2]).\n",
    "But:\n",
    "* A) They usually charge money (>100€ Betwise)\n",
    "* B) They usually offer a limited scope of variables (especially Betfair)\n",
    "* C) They usually offer data in a  format different than the race-sheets of upcoming races, making it difficult to implement a ML workflow\n",
    "[1]: https://www.betwise.co.uk/smartform\n",
    "\n",
    "[2]: https://www.betfair.com/de\n",
    "\n",
    "\n"
   ]
  },
  {
   "cell_type": "markdown",
   "metadata": {
    "slideshow": {
     "slide_type": "subslide"
    }
   },
   "source": [
    "# 1.) Where to get data?  – The solution\n",
    "* Betting sites usually provide lots of data for upcomming and past races.\n",
    "* The [requests](http://docs.python-requests.org/en/master/) package for python offers a powerful tool to download webpages.\n",
    "* ... so I wrote a couple of functions to download and parse data from one of the big betting services. \n"
   ]
  },
  {
   "cell_type": "markdown",
   "metadata": {
    "slideshow": {
     "slide_type": "subslide"
    }
   },
   "source": [
    "# 1.) Where to get data?  – The solution: scraping (cont.)\n",
    "In this process, called \"web-scraping\",  I learned:\n",
    "* using the requests package\n",
    "* how to use PHP-queries to accessed data\n",
    "* how to use http's GET and POST methods to login in automatically\n",
    "* some JSON (to post HTTP headers)\n",
    "* servers do not like receiving requests..."
   ]
  },
  {
   "cell_type": "markdown",
   "metadata": {
    "slideshow": {
     "slide_type": "subslide"
    }
   },
   "source": [
    "# 1.2.) How to get data?   – The solution: scraping (cont.)\n",
    "<link rel=\"stylesheet\" href=\"lib/css/zenburn.css\">\n",
    "The code can be found in the \"scrape\" module. \n",
    ">```py\n",
    "import hracing.scrape\n",
    "hracing.scrape.main()\n",
    "```\n",
    "\n",
    "Note: It will not work on your machine: I stored info on host and my login in a local .ini file for privacy issues."
   ]
  },
  {
   "cell_type": "code",
   "execution_count": null,
   "metadata": {
    "collapsed": false,
    "slideshow": {
     "slide_type": "-"
    }
   },
   "outputs": [],
   "source": [
    "import hracing.scrape\n",
    "hracing.scrape.main()"
   ]
  },
  {
   "cell_type": "markdown",
   "metadata": {
    "collapsed": false,
    "slideshow": {
     "slide_type": "slide"
    }
   },
   "source": [
    "# 2.) Parse data — The problem\n",
    "A pretty simple problem:\n",
    "* Information is sitting in html-elements\n",
    "* Extract and store in some readily accessible format"
   ]
  },
  {
   "cell_type": "markdown",
   "metadata": {
    "slideshow": {
     "slide_type": "slide"
    }
   },
   "source": [
    "# 2.) Parse data — The solution\n",
    "\n",
    "* At first, I extracted all data with regexp...\n",
    "* ... then I learned that what I'm trying is called parsing...\n",
    "* ... and what parsers  are good for.\n",
    "* BeautifulSoup makes this task easy."
   ]
  },
  {
   "cell_type": "markdown",
   "metadata": {
    "slideshow": {
     "slide_type": "slide"
    }
   },
   "source": [
    "# 3.) Storing data — The problem\n",
    "* One race consists of the following info:\n",
    "    * Race-level info (e.g. race_ID, daytime, location...)\n",
    "    * Horse-level info (e.g. name, weight, sex, jockey...)\n",
    "    * Short-forms: A table describing the latest performance for each horse\n",
    "    * Long-forms: A table describing all-time performance for each horse\n",
    "    * A table describing the finish (sometimes for all horses, or only the first three,... etc. depending on track)\n",
    " >> Hierarchical data structure: Past performances nested in horses, horses and finishers nested in races."
   ]
  },
  {
   "cell_type": "markdown",
   "metadata": {
    "slideshow": {
     "slide_type": "slide"
    }
   },
   "source": [
    "# 3.) Storing data — The solution, take 1\n",
    "* create a race class with variables stored as properties\n",
    "* save class instances in separate \"pickled\" files\n",
    "* give up...\n",
    "    \n",
    "++ Good to practice class syntax\n",
    "\n",
    "-- Inefficient data storage (lots of discspace, inaccessible, inflexible)"
   ]
  },
  {
   "cell_type": "markdown",
   "metadata": {
    "slideshow": {
     "slide_type": "slide"
    }
   },
   "source": [
    "# 3.) Storing data — The solution, take 2\n",
    "* create SQL data-bank\n",
    "* save races in a relation with race_ID, horses in a relation horse_ID\n",
    "* give up...\n",
    "   \n",
    "++ Good to practice SQL syntax\n",
    "\n",
    "-- Not actually an efficient way to store data, as it cannot handle data hierarchy and is inflexible (esp. when new variables become available)"
   ]
  },
  {
   "cell_type": "markdown",
   "metadata": {
    "slideshow": {
     "slide_type": "slide"
    }
   },
   "source": [
    "# 3.) Storing data — The solution, take 3\n",
    "* parse data into hierarchical dict\n",
    "* create MongoDB data-bank and store dicts according to race ID\n",
    "* :)\n",
    "   \n",
    "++ Efficient storage, conserves natural data hierarchy, flexible if new variables become available\n",
    "\n",
    "-- Why did I not try this earlier"
   ]
  },
  {
   "cell_type": "markdown",
   "metadata": {
    "collapsed": false,
    "slideshow": {
     "slide_type": "slide"
    }
   },
   "source": [
    "# 3.) Machine learning"
   ]
  },
  {
   "cell_type": "markdown",
   "metadata": {
    "collapsed": false,
    "slideshow": {
     "slide_type": "slide"
    }
   },
   "source": [
    "# 4.) Bet?"
   ]
  }
 ],
 "metadata": {
  "anaconda-cloud": {},
  "celltoolbar": "Slideshow",
  "kernelspec": {
   "display_name": "Python [default]",
   "language": "python",
   "name": "python3"
  },
  "language_info": {
   "codemirror_mode": {
    "name": "ipython",
    "version": 3
   },
   "file_extension": ".py",
   "mimetype": "text/x-python",
   "name": "python",
   "nbconvert_exporter": "python",
   "pygments_lexer": "ipython3",
   "version": "3.5.2"
  }
 },
 "nbformat": 4,
 "nbformat_minor": 0
}
